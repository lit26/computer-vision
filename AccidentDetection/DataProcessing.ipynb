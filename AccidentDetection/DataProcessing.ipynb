{
 "cells": [
  {
   "cell_type": "markdown",
   "metadata": {
    "colab_type": "text",
    "id": "NYW8h0cSf4uk"
   },
   "source": [
    "# Mount Google Drive\n"
   ]
  },
  {
   "cell_type": "code",
   "execution_count": 1,
   "metadata": {
    "colab": {
     "base_uri": "https://localhost:8080/",
     "height": 125
    },
    "colab_type": "code",
    "executionInfo": {
     "elapsed": 21600,
     "status": "ok",
     "timestamp": 1574221552037,
     "user": {
      "displayName": "Tianning Li",
      "photoUrl": "",
      "userId": "06272439618570384466"
     },
     "user_tz": 480
    },
    "id": "AEqVuMHcf-sh",
    "outputId": "522f03a7-72f7-4aa7-da17-270adb7a9ff2"
   },
   "outputs": [
    {
     "name": "stdout",
     "output_type": "stream",
     "text": [
      "Go to this URL in a browser: https://accounts.google.com/o/oauth2/auth?client_id=947318989803-6bn6qk8qdgf4n4g3pfee6491hc0brc4i.apps.googleusercontent.com&redirect_uri=urn%3aietf%3awg%3aoauth%3a2.0%3aoob&response_type=code&scope=email%20https%3a%2f%2fwww.googleapis.com%2fauth%2fdocs.test%20https%3a%2f%2fwww.googleapis.com%2fauth%2fdrive%20https%3a%2f%2fwww.googleapis.com%2fauth%2fdrive.photos.readonly%20https%3a%2f%2fwww.googleapis.com%2fauth%2fpeopleapi.readonly\n",
      "\n",
      "Enter your authorization code:\n",
      "··········\n",
      "Mounted at /content/drive\n"
     ]
    }
   ],
   "source": [
    "from google.colab import drive\n",
    "drive.mount('/content/drive')"
   ]
  },
  {
   "cell_type": "markdown",
   "metadata": {
    "colab_type": "text",
    "id": "5Uvd3Mk7fz50"
   },
   "source": [
    "# Import Library"
   ]
  },
  {
   "cell_type": "code",
   "execution_count": 5,
   "metadata": {
    "colab": {},
    "colab_type": "code",
    "id": "oY8TI7bMfwUc"
   },
   "outputs": [],
   "source": [
    "import os\n",
    "import random\n",
    "from shutil import copyfile"
   ]
  },
  {
   "cell_type": "markdown",
   "metadata": {
    "colab_type": "text",
    "id": "VHSXKfd3gAVS"
   },
   "source": [
    "# Parameter"
   ]
  },
  {
   "cell_type": "code",
   "execution_count": 6,
   "metadata": {
    "colab": {},
    "colab_type": "code",
    "id": "iDG_nqx5gCO8"
   },
   "outputs": [],
   "source": [
    "# project_base = '/content/drive/My Drive/computer vision/accident detection/'\n",
    "project_base = ''\n",
    "dataset_base = project_base + 'dataset/'\n",
    "classes = ['Fire','Robbery','safe']\n",
    "train_percent = 0.8\n",
    "\n",
    "n_images = 1400\n",
    "n_train = int(n_images*train_percent)"
   ]
  },
  {
   "cell_type": "markdown",
   "metadata": {
    "colab_type": "text",
    "id": "dWVuL2mIgEa_"
   },
   "source": [
    "# Explore Files"
   ]
  },
  {
   "cell_type": "code",
   "execution_count": 7,
   "metadata": {
    "colab": {
     "base_uri": "https://localhost:8080/",
     "height": 70
    },
    "colab_type": "code",
    "executionInfo": {
     "elapsed": 47240,
     "status": "ok",
     "timestamp": 1574221614377,
     "user": {
      "displayName": "Tianning Li",
      "photoUrl": "",
      "userId": "06272439618570384466"
     },
     "user_tz": 480
    },
    "id": "7gaHiNYKgEGz",
    "outputId": "eb9e07f3-ad7f-4876-abc1-8e63fb01d72c"
   },
   "outputs": [
    {
     "name": "stdout",
     "output_type": "stream",
     "text": [
      "Fire directory has 1406 images.\n",
      "Robbery directory has 2073 images.\n",
      "safe directory has 2689 images.\n"
     ]
    }
   ],
   "source": [
    "for each_class in classes:\n",
    "    for root, dirs, files in os.walk(os.path.join(dataset_base, each_class)):\n",
    "        print(\"%s directory has %d images.\" % (each_class, len(files)))"
   ]
  },
  {
   "cell_type": "markdown",
   "metadata": {
    "colab_type": "text",
    "id": "qBXHdOTrh7rO"
   },
   "source": [
    "# Make directory"
   ]
  },
  {
   "cell_type": "code",
   "execution_count": 8,
   "metadata": {
    "colab": {},
    "colab_type": "code",
    "id": "RODpQ5XRh-hq"
   },
   "outputs": [],
   "source": [
    "base_path = os.path.join(project_base,'train_test')\n",
    "os.mkdir(base_path)\n",
    "train_path = os.path.join(base_path, 'train')\n",
    "os.mkdir(train_path)\n",
    "test_path = os.path.join(base_path,'test')\n",
    "os.mkdir(test_path)"
   ]
  },
  {
   "cell_type": "markdown",
   "metadata": {
    "colab_type": "text",
    "id": "e0BoTiuWiCy1"
   },
   "source": [
    "# Split Images to train and test"
   ]
  },
  {
   "cell_type": "code",
   "execution_count": 9,
   "metadata": {
    "colab": {
     "base_uri": "https://localhost:8080/",
     "height": 87
    },
    "colab_type": "code",
    "executionInfo": {
     "elapsed": 1240741,
     "status": "ok",
     "timestamp": 1574223964190,
     "user": {
      "displayName": "Tianning Li",
      "photoUrl": "",
      "userId": "06272439618570384466"
     },
     "user_tz": 480
    },
    "id": "AoWDAGoiiHCu",
    "outputId": "eed5cc90-5e84-4337-cad2-3ce0c7e7523a"
   },
   "outputs": [
    {
     "name": "stdout",
     "output_type": "stream",
     "text": [
      "Coping Fire images...\n",
      "Coping Robbery images...\n",
      "Coping safe images...\n",
      "Split image complete.\n"
     ]
    }
   ],
   "source": [
    "allFiles = []\n",
    "base_path = dataset_base\n",
    "for each_class in classes:\n",
    "    print(\"Coping %s images...\" %(each_class))\n",
    "    all_imgs = os.listdir(os.path.join(base_path, each_class))\n",
    "    all_imgs = [f for f in all_imgs if not f.startswith('.')]\n",
    "    random.seed(1)\n",
    "    random.shuffle(all_imgs)\n",
    "    train_imgs = all_imgs[:n_train]\n",
    "    test_imgs = all_imgs[n_train:n_images]\n",
    "    \n",
    "    train_test_dir = os.path.join(project_base, 'train_test')\n",
    "    # copy each class to train directory\n",
    "    os.mkdir(os.path.join(train_test_dir, 'train', each_class))\n",
    "    for j in range(len(train_imgs)):\n",
    "        original_path = os.path.join(base_path, each_class, train_imgs[j])\n",
    "        new_path = os.path.join(train_test_dir, 'train', each_class, train_imgs[j])\n",
    "        copyfile(original_path, new_path)\n",
    "    \n",
    "    # copy each class to test directory\n",
    "    os.mkdir(os.path.join(train_test_dir, 'test', each_class))\n",
    "    for j in range(len(test_imgs)):\n",
    "        original_path = os.path.join(base_path, each_class, test_imgs[j])\n",
    "        new_path = os.path.join(train_test_dir, 'test', each_class, test_imgs[j])\n",
    "        copyfile(original_path, new_path)\n",
    "print('Split image complete.')"
   ]
  },
  {
   "cell_type": "code",
   "execution_count": 10,
   "metadata": {
    "colab": {
     "base_uri": "https://localhost:8080/",
     "height": 301
    },
    "colab_type": "code",
    "executionInfo": {
     "elapsed": 940,
     "status": "ok",
     "timestamp": 1574230196342,
     "user": {
      "displayName": "Tianning Li",
      "photoUrl": "",
      "userId": "06272439618570384466"
     },
     "user_tz": 480
    },
    "id": "p7S29L1fbRGT",
    "outputId": "e71e3f62-f714-47b2-c99d-6f2f4c1ae806"
   },
   "outputs": [
    {
     "name": "stdout",
     "output_type": "stream",
     "text": [
      "train_test/train\n",
      "0\n",
      "train_test/train/safe\n",
      "1120\n",
      "train_test/train/Fire\n",
      "1120\n",
      "train_test/train/Robbery\n",
      "1120\n",
      "train_test/test\n",
      "0\n",
      "train_test/test/safe\n",
      "280\n",
      "train_test/test/Fire\n",
      "280\n",
      "train_test/test/Robbery\n",
      "280\n"
     ]
    }
   ],
   "source": [
    "for root, dirs, files in os.walk(train_path):\n",
    "    print(root)\n",
    "    print(len(files))\n",
    "for root, dirs, files in os.walk(test_path):\n",
    "    print(root)\n",
    "    print(len(files))\n"
   ]
  },
  {
   "cell_type": "code",
   "execution_count": null,
   "metadata": {},
   "outputs": [],
   "source": []
  }
 ],
 "metadata": {
  "colab": {
   "name": "DataProcessing.ipynb",
   "provenance": [],
   "toc_visible": true
  },
  "kernelspec": {
   "display_name": "Python 3",
   "language": "python",
   "name": "python3"
  },
  "language_info": {
   "codemirror_mode": {
    "name": "ipython",
    "version": 3
   },
   "file_extension": ".py",
   "mimetype": "text/x-python",
   "name": "python",
   "nbconvert_exporter": "python",
   "pygments_lexer": "ipython3",
   "version": "3.7.5"
  }
 },
 "nbformat": 4,
 "nbformat_minor": 1
}
